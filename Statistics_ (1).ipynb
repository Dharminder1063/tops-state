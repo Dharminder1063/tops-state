{
  "nbformat": 4,
  "nbformat_minor": 0,
  "metadata": {
    "colab": {
      "provenance": []
    },
    "kernelspec": {
      "name": "python3",
      "display_name": "Python 3"
    },
    "language_info": {
      "name": "python"
    }
  },
  "cells": [
    {
      "cell_type": "markdown",
      "source": [
        "1. Business Problem: A car rental company wants to analyze the rental durations of itscustomers to understand the typical rental period and optimize its pricing andfleet\n",
        "\n",
        "management strategies. Data: Let's consider the rental durations (in days) for asample of 50 customers:\n",
        "\n",
        "3, 2, 5, 4, 7, 2, 3, 3, 1, 6, 4, 2, 3, 5, 2, 4, 2, 1, 3, 5, 6, 3, 2, 1, 4, 2, 4, 5, 3, 2, 7, 2, 3, 4, 5, 1, 6, 2, 4, 3, 5, 3, 2, 4, 2, 6, 3, 2, 4, 5\n",
        "\n",
        "\n",
        "Question:\n",
        "\n",
        "a. Mean: What is the average rental duration for customers at the car rental\n",
        "company?\n",
        "\n",
        "b. Median: What is the typical or central rental duration experiencedbycustomers?\n",
        "\n",
        "c. Mode: Are there any recurring or most frequently occurring rental\n",
        "durations for customers?\n",
        "\n",
        "\n",
        "By answering these questions using the mean, median, and mode, thecar\n",
        "rental company can gain insights into the average rental duration, understand the most common rental periods, and make informed decisionsregarding pricing, fleet size, and availability. Additionally, this analysiscan help the company optimize resource allocation, plan for peak demandperiods, and enhance customer satisfaction by aligning service offeringswith customers' typical  rental needs."
      ],
      "metadata": {
        "id": "ADFrdQouZP6k"
      }
    },
    {
      "cell_type": "code",
      "source": [
        "import numpy as np\n",
        "import pandas as pd"
      ],
      "metadata": {
        "id": "dKgt-dGbaomx"
      },
      "execution_count": null,
      "outputs": []
    },
    {
      "cell_type": "code",
      "source": [
        "customer = [i for i in range(1, 51)]\n",
        "rental_duration = [3, 2, 5, 4, 7, 2, 3, 3, 1, 6, 4, 2, 3, 5, 2, 4, 2, 1, 3, 5, 6, 3, 2, 1, 4, 2, 4, 5, 3, 2, 7, 2, 3, 4, 5, 1, 6, 2, 4, 3, 5, 3, 2, 4, 2, 6, 3, 2, 4, 5]"
      ],
      "metadata": {
        "id": "whkZxIT-aMgx"
      },
      "execution_count": null,
      "outputs": []
    },
    {
      "cell_type": "code",
      "source": [
        "h = np.array(rental_duration)\n",
        "h"
      ],
      "metadata": {
        "colab": {
          "base_uri": "https://localhost:8080/"
        },
        "id": "mjqqkw4cZ-N8",
        "outputId": "856c5eca-dbec-455d-91b8-8d3869dc9912"
      },
      "execution_count": null,
      "outputs": [
        {
          "output_type": "execute_result",
          "data": {
            "text/plain": [
              "array([3, 2, 5, 4, 7, 2, 3, 3, 1, 6, 4, 2, 3, 5, 2, 4, 2, 1, 3, 5, 6, 3,\n",
              "       2, 1, 4, 2, 4, 5, 3, 2, 7, 2, 3, 4, 5, 1, 6, 2, 4, 3, 5, 3, 2, 4,\n",
              "       2, 6, 3, 2, 4, 5])"
            ]
          },
          "metadata": {},
          "execution_count": 3
        }
      ]
    },
    {
      "cell_type": "code",
      "execution_count": null,
      "metadata": {
        "id": "lkoKdblOb2Sx"
      },
      "outputs": [],
      "source": [
        "h = pd.Series(rental_duration , index = customer , name = \"management strategies\")"
      ]
    },
    {
      "cell_type": "code",
      "source": [
        "h"
      ],
      "metadata": {
        "colab": {
          "base_uri": "https://localhost:8080/",
          "height": 1000
        },
        "id": "OWxxJRj4a2Bj",
        "outputId": "2f20d521-7c56-45cb-d098-5acbc5ec5dad"
      },
      "execution_count": null,
      "outputs": [
        {
          "output_type": "execute_result",
          "data": {
            "text/plain": [
              "1     3\n",
              "2     2\n",
              "3     5\n",
              "4     4\n",
              "5     7\n",
              "6     2\n",
              "7     3\n",
              "8     3\n",
              "9     1\n",
              "10    6\n",
              "11    4\n",
              "12    2\n",
              "13    3\n",
              "14    5\n",
              "15    2\n",
              "16    4\n",
              "17    2\n",
              "18    1\n",
              "19    3\n",
              "20    5\n",
              "21    6\n",
              "22    3\n",
              "23    2\n",
              "24    1\n",
              "25    4\n",
              "26    2\n",
              "27    4\n",
              "28    5\n",
              "29    3\n",
              "30    2\n",
              "31    7\n",
              "32    2\n",
              "33    3\n",
              "34    4\n",
              "35    5\n",
              "36    1\n",
              "37    6\n",
              "38    2\n",
              "39    4\n",
              "40    3\n",
              "41    5\n",
              "42    3\n",
              "43    2\n",
              "44    4\n",
              "45    2\n",
              "46    6\n",
              "47    3\n",
              "48    2\n",
              "49    4\n",
              "50    5\n",
              "Name: management strategies, dtype: int64"
            ],
            "text/html": [
              "<div>\n",
              "<style scoped>\n",
              "    .dataframe tbody tr th:only-of-type {\n",
              "        vertical-align: middle;\n",
              "    }\n",
              "\n",
              "    .dataframe tbody tr th {\n",
              "        vertical-align: top;\n",
              "    }\n",
              "\n",
              "    .dataframe thead th {\n",
              "        text-align: right;\n",
              "    }\n",
              "</style>\n",
              "<table border=\"1\" class=\"dataframe\">\n",
              "  <thead>\n",
              "    <tr style=\"text-align: right;\">\n",
              "      <th></th>\n",
              "      <th>management strategies</th>\n",
              "    </tr>\n",
              "  </thead>\n",
              "  <tbody>\n",
              "    <tr>\n",
              "      <th>1</th>\n",
              "      <td>3</td>\n",
              "    </tr>\n",
              "    <tr>\n",
              "      <th>2</th>\n",
              "      <td>2</td>\n",
              "    </tr>\n",
              "    <tr>\n",
              "      <th>3</th>\n",
              "      <td>5</td>\n",
              "    </tr>\n",
              "    <tr>\n",
              "      <th>4</th>\n",
              "      <td>4</td>\n",
              "    </tr>\n",
              "    <tr>\n",
              "      <th>5</th>\n",
              "      <td>7</td>\n",
              "    </tr>\n",
              "    <tr>\n",
              "      <th>6</th>\n",
              "      <td>2</td>\n",
              "    </tr>\n",
              "    <tr>\n",
              "      <th>7</th>\n",
              "      <td>3</td>\n",
              "    </tr>\n",
              "    <tr>\n",
              "      <th>8</th>\n",
              "      <td>3</td>\n",
              "    </tr>\n",
              "    <tr>\n",
              "      <th>9</th>\n",
              "      <td>1</td>\n",
              "    </tr>\n",
              "    <tr>\n",
              "      <th>10</th>\n",
              "      <td>6</td>\n",
              "    </tr>\n",
              "    <tr>\n",
              "      <th>11</th>\n",
              "      <td>4</td>\n",
              "    </tr>\n",
              "    <tr>\n",
              "      <th>12</th>\n",
              "      <td>2</td>\n",
              "    </tr>\n",
              "    <tr>\n",
              "      <th>13</th>\n",
              "      <td>3</td>\n",
              "    </tr>\n",
              "    <tr>\n",
              "      <th>14</th>\n",
              "      <td>5</td>\n",
              "    </tr>\n",
              "    <tr>\n",
              "      <th>15</th>\n",
              "      <td>2</td>\n",
              "    </tr>\n",
              "    <tr>\n",
              "      <th>16</th>\n",
              "      <td>4</td>\n",
              "    </tr>\n",
              "    <tr>\n",
              "      <th>17</th>\n",
              "      <td>2</td>\n",
              "    </tr>\n",
              "    <tr>\n",
              "      <th>18</th>\n",
              "      <td>1</td>\n",
              "    </tr>\n",
              "    <tr>\n",
              "      <th>19</th>\n",
              "      <td>3</td>\n",
              "    </tr>\n",
              "    <tr>\n",
              "      <th>20</th>\n",
              "      <td>5</td>\n",
              "    </tr>\n",
              "    <tr>\n",
              "      <th>21</th>\n",
              "      <td>6</td>\n",
              "    </tr>\n",
              "    <tr>\n",
              "      <th>22</th>\n",
              "      <td>3</td>\n",
              "    </tr>\n",
              "    <tr>\n",
              "      <th>23</th>\n",
              "      <td>2</td>\n",
              "    </tr>\n",
              "    <tr>\n",
              "      <th>24</th>\n",
              "      <td>1</td>\n",
              "    </tr>\n",
              "    <tr>\n",
              "      <th>25</th>\n",
              "      <td>4</td>\n",
              "    </tr>\n",
              "    <tr>\n",
              "      <th>26</th>\n",
              "      <td>2</td>\n",
              "    </tr>\n",
              "    <tr>\n",
              "      <th>27</th>\n",
              "      <td>4</td>\n",
              "    </tr>\n",
              "    <tr>\n",
              "      <th>28</th>\n",
              "      <td>5</td>\n",
              "    </tr>\n",
              "    <tr>\n",
              "      <th>29</th>\n",
              "      <td>3</td>\n",
              "    </tr>\n",
              "    <tr>\n",
              "      <th>30</th>\n",
              "      <td>2</td>\n",
              "    </tr>\n",
              "    <tr>\n",
              "      <th>31</th>\n",
              "      <td>7</td>\n",
              "    </tr>\n",
              "    <tr>\n",
              "      <th>32</th>\n",
              "      <td>2</td>\n",
              "    </tr>\n",
              "    <tr>\n",
              "      <th>33</th>\n",
              "      <td>3</td>\n",
              "    </tr>\n",
              "    <tr>\n",
              "      <th>34</th>\n",
              "      <td>4</td>\n",
              "    </tr>\n",
              "    <tr>\n",
              "      <th>35</th>\n",
              "      <td>5</td>\n",
              "    </tr>\n",
              "    <tr>\n",
              "      <th>36</th>\n",
              "      <td>1</td>\n",
              "    </tr>\n",
              "    <tr>\n",
              "      <th>37</th>\n",
              "      <td>6</td>\n",
              "    </tr>\n",
              "    <tr>\n",
              "      <th>38</th>\n",
              "      <td>2</td>\n",
              "    </tr>\n",
              "    <tr>\n",
              "      <th>39</th>\n",
              "      <td>4</td>\n",
              "    </tr>\n",
              "    <tr>\n",
              "      <th>40</th>\n",
              "      <td>3</td>\n",
              "    </tr>\n",
              "    <tr>\n",
              "      <th>41</th>\n",
              "      <td>5</td>\n",
              "    </tr>\n",
              "    <tr>\n",
              "      <th>42</th>\n",
              "      <td>3</td>\n",
              "    </tr>\n",
              "    <tr>\n",
              "      <th>43</th>\n",
              "      <td>2</td>\n",
              "    </tr>\n",
              "    <tr>\n",
              "      <th>44</th>\n",
              "      <td>4</td>\n",
              "    </tr>\n",
              "    <tr>\n",
              "      <th>45</th>\n",
              "      <td>2</td>\n",
              "    </tr>\n",
              "    <tr>\n",
              "      <th>46</th>\n",
              "      <td>6</td>\n",
              "    </tr>\n",
              "    <tr>\n",
              "      <th>47</th>\n",
              "      <td>3</td>\n",
              "    </tr>\n",
              "    <tr>\n",
              "      <th>48</th>\n",
              "      <td>2</td>\n",
              "    </tr>\n",
              "    <tr>\n",
              "      <th>49</th>\n",
              "      <td>4</td>\n",
              "    </tr>\n",
              "    <tr>\n",
              "      <th>50</th>\n",
              "      <td>5</td>\n",
              "    </tr>\n",
              "  </tbody>\n",
              "</table>\n",
              "</div><br><label><b>dtype:</b> int64</label>"
            ]
          },
          "metadata": {},
          "execution_count": 5
        }
      ]
    },
    {
      "cell_type": "markdown",
      "source": [
        "Question"
      ],
      "metadata": {
        "id": "-vCFGuokcrnk"
      }
    },
    {
      "cell_type": "markdown",
      "source": [
        "c. Mode: Are there any recurring or most frequently occurring rental durations for customers?"
      ],
      "metadata": {
        "id": "jwTjUZQqc2X6"
      }
    },
    {
      "cell_type": "code",
      "source": [
        "h.mode()"
      ],
      "metadata": {
        "colab": {
          "base_uri": "https://localhost:8080/",
          "height": 115
        },
        "id": "SIEktntGa_zn",
        "outputId": "b0d1254b-25db-48ef-e4ef-3f8f2cb44495"
      },
      "execution_count": null,
      "outputs": [
        {
          "output_type": "execute_result",
          "data": {
            "text/plain": [
              "0    2\n",
              "Name: management strategies, dtype: int64"
            ],
            "text/html": [
              "<div>\n",
              "<style scoped>\n",
              "    .dataframe tbody tr th:only-of-type {\n",
              "        vertical-align: middle;\n",
              "    }\n",
              "\n",
              "    .dataframe tbody tr th {\n",
              "        vertical-align: top;\n",
              "    }\n",
              "\n",
              "    .dataframe thead th {\n",
              "        text-align: right;\n",
              "    }\n",
              "</style>\n",
              "<table border=\"1\" class=\"dataframe\">\n",
              "  <thead>\n",
              "    <tr style=\"text-align: right;\">\n",
              "      <th></th>\n",
              "      <th>management strategies</th>\n",
              "    </tr>\n",
              "  </thead>\n",
              "  <tbody>\n",
              "    <tr>\n",
              "      <th>0</th>\n",
              "      <td>2</td>\n",
              "    </tr>\n",
              "  </tbody>\n",
              "</table>\n",
              "</div><br><label><b>dtype:</b> int64</label>"
            ]
          },
          "metadata": {},
          "execution_count": 6
        }
      ]
    },
    {
      "cell_type": "markdown",
      "source": [
        "a. Mean: What is the average rental duration for customers at the car rental\n",
        "company?"
      ],
      "metadata": {
        "id": "LlbRTv20c3J1"
      }
    },
    {
      "cell_type": "code",
      "source": [
        "h.mean()"
      ],
      "metadata": {
        "colab": {
          "base_uri": "https://localhost:8080/"
        },
        "id": "wPNPqYWbbK9M",
        "outputId": "31864529-feeb-4a91-ceb8-02a5edc328e5"
      },
      "execution_count": null,
      "outputs": [
        {
          "output_type": "execute_result",
          "data": {
            "text/plain": [
              "np.float64(3.44)"
            ]
          },
          "metadata": {},
          "execution_count": 7
        }
      ]
    },
    {
      "cell_type": "markdown",
      "source": [
        "b. Median: What is the typical or central rental duration experiencedbycustomers?"
      ],
      "metadata": {
        "id": "59Yy1nwIc8dU"
      }
    },
    {
      "cell_type": "code",
      "source": [
        "h.median()"
      ],
      "metadata": {
        "colab": {
          "base_uri": "https://localhost:8080/"
        },
        "id": "JiNCZxxpb-R2",
        "outputId": "811e7c56-8746-46ed-9831-6f76f6f7c611"
      },
      "execution_count": null,
      "outputs": [
        {
          "output_type": "execute_result",
          "data": {
            "text/plain": [
              "3.0"
            ]
          },
          "metadata": {},
          "execution_count": 8
        }
      ]
    },
    {
      "cell_type": "markdown",
      "source": [
        "2. An e-commerce platform wants to analyze the delivery times of its shipments tounderstand the variability in order fulfillment and optimize its logistics operations.\n",
        "\n",
        "\n",
        "Data:\n",
        "\n",
        "Let's consider the delivery times (in days) for a sample of 50 shipments:\n",
        "3, 5, 2, 4, 6, 2, 3, 4, 2, 5, 7, 2, 3, 4, 2, 4, 2, 3, 5, 6, 3, 2, 1, 4, 2, 4, 5, 3, 2, 7, 2, 3, 4, 5, 1, 6, 2, 4, 3, 5, 3, 2, 4, 2, 6, 3, 2, 4, 5, 3\n",
        "\n",
        "\n",
        "Questions:\n",
        "\n",
        "a. Range: What is the range of the delivery times?\n",
        "\n",
        "b. Variance: What is the variance of the delivery times?\n",
        "\n",
        "c. Standard Deviation: What is the standard deviation of the deliverytimes?\n",
        "\n",
        "By answering these questions using different measures of dispersion, the\n",
        "e- commerce platform can gain insights into the variability in delivery times, identify any bottlenecks in the logistics process, and make informed decisionsregarding shipment tracking,customer expectations, and service level agreements"
      ],
      "metadata": {
        "id": "_3Fee_UjcD9U"
      }
    },
    {
      "cell_type": "code",
      "source": [
        "shipments = [i for i in range(1, 51)]\n",
        "delivery_times= [3, 5, 2, 4, 6, 2, 3, 4, 2, 5, 7, 2, 3, 4, 2, 4, 2, 3, 5, 6, 3, 2, 1, 4, 2, 4, 5, 3, 2, 7, 2, 3, 4, 5, 1, 6, 2, 4, 3, 5, 3, 2, 4, 2, 6, 3, 2, 4, 5, 3]"
      ],
      "metadata": {
        "id": "TBR2XuYtcAgQ"
      },
      "execution_count": null,
      "outputs": []
    },
    {
      "cell_type": "code",
      "source": [
        "v =  np.array(delivery_times)\n",
        "v"
      ],
      "metadata": {
        "colab": {
          "base_uri": "https://localhost:8080/"
        },
        "id": "5U6GpIyhewWF",
        "outputId": "5405965d-da20-418d-ec5d-47a05059f4cf"
      },
      "execution_count": null,
      "outputs": [
        {
          "output_type": "execute_result",
          "data": {
            "text/plain": [
              "array([3, 5, 2, 4, 6, 2, 3, 4, 2, 5, 7, 2, 3, 4, 2, 4, 2, 3, 5, 6, 3, 2,\n",
              "       1, 4, 2, 4, 5, 3, 2, 7, 2, 3, 4, 5, 1, 6, 2, 4, 3, 5, 3, 2, 4, 2,\n",
              "       6, 3, 2, 4, 5, 3])"
            ]
          },
          "metadata": {},
          "execution_count": 10
        }
      ]
    },
    {
      "cell_type": "code",
      "source": [
        "pd.Series(delivery_times , index = shipments , name = \" e-commerce platform\")"
      ],
      "metadata": {
        "colab": {
          "base_uri": "https://localhost:8080/",
          "height": 1000
        },
        "id": "e6El6eRLe_4A",
        "outputId": "1d5c4968-043a-4b65-b430-9d00773e0a99"
      },
      "execution_count": null,
      "outputs": [
        {
          "output_type": "execute_result",
          "data": {
            "text/plain": [
              "1     3\n",
              "2     5\n",
              "3     2\n",
              "4     4\n",
              "5     6\n",
              "6     2\n",
              "7     3\n",
              "8     4\n",
              "9     2\n",
              "10    5\n",
              "11    7\n",
              "12    2\n",
              "13    3\n",
              "14    4\n",
              "15    2\n",
              "16    4\n",
              "17    2\n",
              "18    3\n",
              "19    5\n",
              "20    6\n",
              "21    3\n",
              "22    2\n",
              "23    1\n",
              "24    4\n",
              "25    2\n",
              "26    4\n",
              "27    5\n",
              "28    3\n",
              "29    2\n",
              "30    7\n",
              "31    2\n",
              "32    3\n",
              "33    4\n",
              "34    5\n",
              "35    1\n",
              "36    6\n",
              "37    2\n",
              "38    4\n",
              "39    3\n",
              "40    5\n",
              "41    3\n",
              "42    2\n",
              "43    4\n",
              "44    2\n",
              "45    6\n",
              "46    3\n",
              "47    2\n",
              "48    4\n",
              "49    5\n",
              "50    3\n",
              "Name:  e-commerce platform, dtype: int64"
            ],
            "text/html": [
              "<div>\n",
              "<style scoped>\n",
              "    .dataframe tbody tr th:only-of-type {\n",
              "        vertical-align: middle;\n",
              "    }\n",
              "\n",
              "    .dataframe tbody tr th {\n",
              "        vertical-align: top;\n",
              "    }\n",
              "\n",
              "    .dataframe thead th {\n",
              "        text-align: right;\n",
              "    }\n",
              "</style>\n",
              "<table border=\"1\" class=\"dataframe\">\n",
              "  <thead>\n",
              "    <tr style=\"text-align: right;\">\n",
              "      <th></th>\n",
              "      <th>e-commerce platform</th>\n",
              "    </tr>\n",
              "  </thead>\n",
              "  <tbody>\n",
              "    <tr>\n",
              "      <th>1</th>\n",
              "      <td>3</td>\n",
              "    </tr>\n",
              "    <tr>\n",
              "      <th>2</th>\n",
              "      <td>5</td>\n",
              "    </tr>\n",
              "    <tr>\n",
              "      <th>3</th>\n",
              "      <td>2</td>\n",
              "    </tr>\n",
              "    <tr>\n",
              "      <th>4</th>\n",
              "      <td>4</td>\n",
              "    </tr>\n",
              "    <tr>\n",
              "      <th>5</th>\n",
              "      <td>6</td>\n",
              "    </tr>\n",
              "    <tr>\n",
              "      <th>6</th>\n",
              "      <td>2</td>\n",
              "    </tr>\n",
              "    <tr>\n",
              "      <th>7</th>\n",
              "      <td>3</td>\n",
              "    </tr>\n",
              "    <tr>\n",
              "      <th>8</th>\n",
              "      <td>4</td>\n",
              "    </tr>\n",
              "    <tr>\n",
              "      <th>9</th>\n",
              "      <td>2</td>\n",
              "    </tr>\n",
              "    <tr>\n",
              "      <th>10</th>\n",
              "      <td>5</td>\n",
              "    </tr>\n",
              "    <tr>\n",
              "      <th>11</th>\n",
              "      <td>7</td>\n",
              "    </tr>\n",
              "    <tr>\n",
              "      <th>12</th>\n",
              "      <td>2</td>\n",
              "    </tr>\n",
              "    <tr>\n",
              "      <th>13</th>\n",
              "      <td>3</td>\n",
              "    </tr>\n",
              "    <tr>\n",
              "      <th>14</th>\n",
              "      <td>4</td>\n",
              "    </tr>\n",
              "    <tr>\n",
              "      <th>15</th>\n",
              "      <td>2</td>\n",
              "    </tr>\n",
              "    <tr>\n",
              "      <th>16</th>\n",
              "      <td>4</td>\n",
              "    </tr>\n",
              "    <tr>\n",
              "      <th>17</th>\n",
              "      <td>2</td>\n",
              "    </tr>\n",
              "    <tr>\n",
              "      <th>18</th>\n",
              "      <td>3</td>\n",
              "    </tr>\n",
              "    <tr>\n",
              "      <th>19</th>\n",
              "      <td>5</td>\n",
              "    </tr>\n",
              "    <tr>\n",
              "      <th>20</th>\n",
              "      <td>6</td>\n",
              "    </tr>\n",
              "    <tr>\n",
              "      <th>21</th>\n",
              "      <td>3</td>\n",
              "    </tr>\n",
              "    <tr>\n",
              "      <th>22</th>\n",
              "      <td>2</td>\n",
              "    </tr>\n",
              "    <tr>\n",
              "      <th>23</th>\n",
              "      <td>1</td>\n",
              "    </tr>\n",
              "    <tr>\n",
              "      <th>24</th>\n",
              "      <td>4</td>\n",
              "    </tr>\n",
              "    <tr>\n",
              "      <th>25</th>\n",
              "      <td>2</td>\n",
              "    </tr>\n",
              "    <tr>\n",
              "      <th>26</th>\n",
              "      <td>4</td>\n",
              "    </tr>\n",
              "    <tr>\n",
              "      <th>27</th>\n",
              "      <td>5</td>\n",
              "    </tr>\n",
              "    <tr>\n",
              "      <th>28</th>\n",
              "      <td>3</td>\n",
              "    </tr>\n",
              "    <tr>\n",
              "      <th>29</th>\n",
              "      <td>2</td>\n",
              "    </tr>\n",
              "    <tr>\n",
              "      <th>30</th>\n",
              "      <td>7</td>\n",
              "    </tr>\n",
              "    <tr>\n",
              "      <th>31</th>\n",
              "      <td>2</td>\n",
              "    </tr>\n",
              "    <tr>\n",
              "      <th>32</th>\n",
              "      <td>3</td>\n",
              "    </tr>\n",
              "    <tr>\n",
              "      <th>33</th>\n",
              "      <td>4</td>\n",
              "    </tr>\n",
              "    <tr>\n",
              "      <th>34</th>\n",
              "      <td>5</td>\n",
              "    </tr>\n",
              "    <tr>\n",
              "      <th>35</th>\n",
              "      <td>1</td>\n",
              "    </tr>\n",
              "    <tr>\n",
              "      <th>36</th>\n",
              "      <td>6</td>\n",
              "    </tr>\n",
              "    <tr>\n",
              "      <th>37</th>\n",
              "      <td>2</td>\n",
              "    </tr>\n",
              "    <tr>\n",
              "      <th>38</th>\n",
              "      <td>4</td>\n",
              "    </tr>\n",
              "    <tr>\n",
              "      <th>39</th>\n",
              "      <td>3</td>\n",
              "    </tr>\n",
              "    <tr>\n",
              "      <th>40</th>\n",
              "      <td>5</td>\n",
              "    </tr>\n",
              "    <tr>\n",
              "      <th>41</th>\n",
              "      <td>3</td>\n",
              "    </tr>\n",
              "    <tr>\n",
              "      <th>42</th>\n",
              "      <td>2</td>\n",
              "    </tr>\n",
              "    <tr>\n",
              "      <th>43</th>\n",
              "      <td>4</td>\n",
              "    </tr>\n",
              "    <tr>\n",
              "      <th>44</th>\n",
              "      <td>2</td>\n",
              "    </tr>\n",
              "    <tr>\n",
              "      <th>45</th>\n",
              "      <td>6</td>\n",
              "    </tr>\n",
              "    <tr>\n",
              "      <th>46</th>\n",
              "      <td>3</td>\n",
              "    </tr>\n",
              "    <tr>\n",
              "      <th>47</th>\n",
              "      <td>2</td>\n",
              "    </tr>\n",
              "    <tr>\n",
              "      <th>48</th>\n",
              "      <td>4</td>\n",
              "    </tr>\n",
              "    <tr>\n",
              "      <th>49</th>\n",
              "      <td>5</td>\n",
              "    </tr>\n",
              "    <tr>\n",
              "      <th>50</th>\n",
              "      <td>3</td>\n",
              "    </tr>\n",
              "  </tbody>\n",
              "</table>\n",
              "</div><br><label><b>dtype:</b> int64</label>"
            ]
          },
          "metadata": {},
          "execution_count": 11
        }
      ]
    },
    {
      "cell_type": "code",
      "source": [
        "print(\"Range = \",v.max() - v.min())"
      ],
      "metadata": {
        "colab": {
          "base_uri": "https://localhost:8080/"
        },
        "id": "9C_rWpqZfNji",
        "outputId": "258a6016-6e7d-49ac-8bbb-2faa06af63a7"
      },
      "execution_count": null,
      "outputs": [
        {
          "output_type": "stream",
          "name": "stdout",
          "text": [
            "Range =  6\n"
          ]
        }
      ]
    },
    {
      "cell_type": "code",
      "source": [
        "print(\"variance = \",v.var())"
      ],
      "metadata": {
        "colab": {
          "base_uri": "https://localhost:8080/"
        },
        "id": "WvbpkP9wfkR_",
        "outputId": "9685643f-d88d-4800-94a1-930b19a8633b"
      },
      "execution_count": null,
      "outputs": [
        {
          "output_type": "stream",
          "name": "stdout",
          "text": [
            "variance =  2.2896\n"
          ]
        }
      ]
    },
    {
      "cell_type": "code",
      "source": [
        "print(\"Standard devition = \",v.std() )"
      ],
      "metadata": {
        "colab": {
          "base_uri": "https://localhost:8080/"
        },
        "id": "nwb8VyvYgYD6",
        "outputId": "e30eec80-b6de-4a6a-de62-6f370bc594c0"
      },
      "execution_count": null,
      "outputs": [
        {
          "output_type": "stream",
          "name": "stdout",
          "text": [
            "Standard devition =  1.513142425550219\n"
          ]
        }
      ]
    },
    {
      "cell_type": "markdown",
      "source": [
        "**3**. A company wants to analyze the monthly revenue generated by one of its productsto understand its performance and variability.\n",
        "\n",
        "Data: Let's consider the monthly revenue (in thousands of dollars) for the past 12months:\n",
        "\n",
        "\\$ 120,\\ $150, \\$110, \\$135, \\$125, \\$140, \\$130, \\$155, \\$115, \\$145, \\$135, \\$130 Questions:\n",
        "\n",
        "a. Measure of Central Tendency: What is the average monthly revenuefor\n",
        "the product?\n",
        "\n",
        "b. Measure of Dispersion: What is the range of monthly revenue for theproduct?\n",
        "\n",
        "\n",
        "By answering these questions, the company can gain insights into the averagerevenue generated by the product and understand the range or variabilityinitsmonthly revenue, which can help with financial planning, forecasting, andevaluating the product's performance."
      ],
      "metadata": {
        "id": "4qkJdyinhxWE"
      }
    },
    {
      "cell_type": "code",
      "source": [
        "Month = [i for i in range(1, 13)]\n",
        "Revenue = [120,150, 110, 135, 125, 140, 130, 155, 115, 145, 135, 130]"
      ],
      "metadata": {
        "id": "3K8-1qmlgbrU"
      },
      "execution_count": null,
      "outputs": []
    },
    {
      "cell_type": "code",
      "source": [
        "a =  np.array(Revenue)\n",
        "a"
      ],
      "metadata": {
        "colab": {
          "base_uri": "https://localhost:8080/"
        },
        "id": "-y7OG-bAWf8U",
        "outputId": "4040b1d2-f9d0-42b6-c710-ed419c182a00"
      },
      "execution_count": null,
      "outputs": [
        {
          "output_type": "execute_result",
          "data": {
            "text/plain": [
              "array([120, 150, 110, 135, 125, 140, 130, 155, 115, 145, 135, 130])"
            ]
          },
          "metadata": {},
          "execution_count": 16
        }
      ]
    },
    {
      "cell_type": "code",
      "source": [
        "a = pd.Series(Revenue, index = Month , name = \"monthly revenue \")\n",
        "a"
      ],
      "metadata": {
        "colab": {
          "base_uri": "https://localhost:8080/",
          "height": 460
        },
        "id": "iDaa-HczW1dh",
        "outputId": "4fd1c2a3-ec50-4f5f-a3da-d5c880f4209b"
      },
      "execution_count": null,
      "outputs": [
        {
          "output_type": "execute_result",
          "data": {
            "text/plain": [
              "1     120\n",
              "2     150\n",
              "3     110\n",
              "4     135\n",
              "5     125\n",
              "6     140\n",
              "7     130\n",
              "8     155\n",
              "9     115\n",
              "10    145\n",
              "11    135\n",
              "12    130\n",
              "Name: monthly revenue , dtype: int64"
            ],
            "text/html": [
              "<div>\n",
              "<style scoped>\n",
              "    .dataframe tbody tr th:only-of-type {\n",
              "        vertical-align: middle;\n",
              "    }\n",
              "\n",
              "    .dataframe tbody tr th {\n",
              "        vertical-align: top;\n",
              "    }\n",
              "\n",
              "    .dataframe thead th {\n",
              "        text-align: right;\n",
              "    }\n",
              "</style>\n",
              "<table border=\"1\" class=\"dataframe\">\n",
              "  <thead>\n",
              "    <tr style=\"text-align: right;\">\n",
              "      <th></th>\n",
              "      <th>monthly revenue</th>\n",
              "    </tr>\n",
              "  </thead>\n",
              "  <tbody>\n",
              "    <tr>\n",
              "      <th>1</th>\n",
              "      <td>120</td>\n",
              "    </tr>\n",
              "    <tr>\n",
              "      <th>2</th>\n",
              "      <td>150</td>\n",
              "    </tr>\n",
              "    <tr>\n",
              "      <th>3</th>\n",
              "      <td>110</td>\n",
              "    </tr>\n",
              "    <tr>\n",
              "      <th>4</th>\n",
              "      <td>135</td>\n",
              "    </tr>\n",
              "    <tr>\n",
              "      <th>5</th>\n",
              "      <td>125</td>\n",
              "    </tr>\n",
              "    <tr>\n",
              "      <th>6</th>\n",
              "      <td>140</td>\n",
              "    </tr>\n",
              "    <tr>\n",
              "      <th>7</th>\n",
              "      <td>130</td>\n",
              "    </tr>\n",
              "    <tr>\n",
              "      <th>8</th>\n",
              "      <td>155</td>\n",
              "    </tr>\n",
              "    <tr>\n",
              "      <th>9</th>\n",
              "      <td>115</td>\n",
              "    </tr>\n",
              "    <tr>\n",
              "      <th>10</th>\n",
              "      <td>145</td>\n",
              "    </tr>\n",
              "    <tr>\n",
              "      <th>11</th>\n",
              "      <td>135</td>\n",
              "    </tr>\n",
              "    <tr>\n",
              "      <th>12</th>\n",
              "      <td>130</td>\n",
              "    </tr>\n",
              "  </tbody>\n",
              "</table>\n",
              "</div><br><label><b>dtype:</b> int64</label>"
            ]
          },
          "metadata": {},
          "execution_count": 17
        }
      ]
    },
    {
      "cell_type": "code",
      "source": [
        "print(\"Central Tendency\",a.sum()/12)"
      ],
      "metadata": {
        "colab": {
          "base_uri": "https://localhost:8080/"
        },
        "id": "6NEqpfnrXi_o",
        "outputId": "9e37927c-f373-4b20-ba94-09e20e45a82e"
      },
      "execution_count": null,
      "outputs": [
        {
          "output_type": "stream",
          "name": "stdout",
          "text": [
            "Central Tendency 132.5\n"
          ]
        }
      ]
    },
    {
      "cell_type": "code",
      "source": [
        "print(\"Measure of Dispersion = \",a.max() - a.min())"
      ],
      "metadata": {
        "colab": {
          "base_uri": "https://localhost:8080/"
        },
        "id": "iku8v3LsYOTA",
        "outputId": "6af0bab9-51ba-478f-f921-10da9ca4491f"
      },
      "execution_count": null,
      "outputs": [
        {
          "output_type": "stream",
          "name": "stdout",
          "text": [
            "Measure of Dispersion =  45\n"
          ]
        }
      ]
    },
    {
      "cell_type": "markdown",
      "source": [
        "4. A transportation company wants to analyze the fuel efficiency of its vehicle fleet toidentify any variations across different vehicle models. Data: Let's consider the fuel efficiency (in miles per gallon, mpg) for a sampleof50 vehicles:\n",
        "\n",
        "Model A: 30, 32, 33, 28, 31, 30, 29, 30, 32, 31,\n",
        "\n",
        "Model B: 25, 27, 26, 23, 28, 24, 26, 25, 27, 28,\n",
        "\n",
        "Model C: 22, 23, 20, 25, 21, 24, 23, 22, 25, 24,\n",
        "\n",
        "Model D: 18, 17, 19, 20, 21, 18, 19, 17, 20, 19,\n",
        "\n",
        "\n",
        "Model E: 35, 36, 34, 35, 33, 34, 32, 33, 36, 34\n",
        "\n",
        "Questions:\n",
        "\n",
        "a. Measure of Central Tendency: What is the average fuel efficiencyfor eachvehicle model?\n",
        "b. Measure of Dispersion: What is the range of fuel efficiency for eachvehicle model?\n",
        "\n",
        "c. Measure of Dispersion: What is the variance of the fuel efficiencyfor eachvehicle model?\n",
        "\n",
        "By answering these questions, the transportation company can gaininsights into the average fuel efficiency of different vehicle models, understand the variations or spread in the fuel efficiency, and make\n",
        "informed decisions regarding fleet management, vehicle selection, andfuel\n",
        "consumption optimization."
      ],
      "metadata": {
        "id": "BYsTWZZNZyW9"
      }
    },
    {
      "cell_type": "code",
      "source": [
        "num = [\n",
        "    [30, 32, 33, 28, 31, 30, 29, 30, 32, 31],\n",
        "    [25, 27, 26, 23, 28, 24, 26, 25, 27, 28],\n",
        "    [22, 23, 20, 25, 21, 24, 23, 22, 25, 24],\n",
        "    [18, 17, 19, 20, 21, 18, 19, 17, 20, 19],\n",
        "    [35, 36, 34, 35, 33, 34, 32, 33, 36, 34]\n",
        "]"
      ],
      "metadata": {
        "id": "BYKOpbeqc6qd"
      },
      "execution_count": null,
      "outputs": []
    },
    {
      "cell_type": "code",
      "source": [
        "b = pd.DataFrame(np.array(num).T,columns=['Model A','Model B','Model C','Model D','Model E'])\n",
        "b"
      ],
      "metadata": {
        "colab": {
          "base_uri": "https://localhost:8080/",
          "height": 363
        },
        "id": "e39YlTFyZGrT",
        "outputId": "72204de9-8585-457f-d08b-f0a96f030fbb"
      },
      "execution_count": null,
      "outputs": [
        {
          "output_type": "execute_result",
          "data": {
            "text/plain": [
              "   Model A  Model B  Model C  Model D  Model E\n",
              "0       30       25       22       18       35\n",
              "1       32       27       23       17       36\n",
              "2       33       26       20       19       34\n",
              "3       28       23       25       20       35\n",
              "4       31       28       21       21       33\n",
              "5       30       24       24       18       34\n",
              "6       29       26       23       19       32\n",
              "7       30       25       22       17       33\n",
              "8       32       27       25       20       36\n",
              "9       31       28       24       19       34"
            ],
            "text/html": [
              "\n",
              "  <div id=\"df-1967e0cc-ac83-4c07-9445-92674f4865ee\" class=\"colab-df-container\">\n",
              "    <div>\n",
              "<style scoped>\n",
              "    .dataframe tbody tr th:only-of-type {\n",
              "        vertical-align: middle;\n",
              "    }\n",
              "\n",
              "    .dataframe tbody tr th {\n",
              "        vertical-align: top;\n",
              "    }\n",
              "\n",
              "    .dataframe thead th {\n",
              "        text-align: right;\n",
              "    }\n",
              "</style>\n",
              "<table border=\"1\" class=\"dataframe\">\n",
              "  <thead>\n",
              "    <tr style=\"text-align: right;\">\n",
              "      <th></th>\n",
              "      <th>Model A</th>\n",
              "      <th>Model B</th>\n",
              "      <th>Model C</th>\n",
              "      <th>Model D</th>\n",
              "      <th>Model E</th>\n",
              "    </tr>\n",
              "  </thead>\n",
              "  <tbody>\n",
              "    <tr>\n",
              "      <th>0</th>\n",
              "      <td>30</td>\n",
              "      <td>25</td>\n",
              "      <td>22</td>\n",
              "      <td>18</td>\n",
              "      <td>35</td>\n",
              "    </tr>\n",
              "    <tr>\n",
              "      <th>1</th>\n",
              "      <td>32</td>\n",
              "      <td>27</td>\n",
              "      <td>23</td>\n",
              "      <td>17</td>\n",
              "      <td>36</td>\n",
              "    </tr>\n",
              "    <tr>\n",
              "      <th>2</th>\n",
              "      <td>33</td>\n",
              "      <td>26</td>\n",
              "      <td>20</td>\n",
              "      <td>19</td>\n",
              "      <td>34</td>\n",
              "    </tr>\n",
              "    <tr>\n",
              "      <th>3</th>\n",
              "      <td>28</td>\n",
              "      <td>23</td>\n",
              "      <td>25</td>\n",
              "      <td>20</td>\n",
              "      <td>35</td>\n",
              "    </tr>\n",
              "    <tr>\n",
              "      <th>4</th>\n",
              "      <td>31</td>\n",
              "      <td>28</td>\n",
              "      <td>21</td>\n",
              "      <td>21</td>\n",
              "      <td>33</td>\n",
              "    </tr>\n",
              "    <tr>\n",
              "      <th>5</th>\n",
              "      <td>30</td>\n",
              "      <td>24</td>\n",
              "      <td>24</td>\n",
              "      <td>18</td>\n",
              "      <td>34</td>\n",
              "    </tr>\n",
              "    <tr>\n",
              "      <th>6</th>\n",
              "      <td>29</td>\n",
              "      <td>26</td>\n",
              "      <td>23</td>\n",
              "      <td>19</td>\n",
              "      <td>32</td>\n",
              "    </tr>\n",
              "    <tr>\n",
              "      <th>7</th>\n",
              "      <td>30</td>\n",
              "      <td>25</td>\n",
              "      <td>22</td>\n",
              "      <td>17</td>\n",
              "      <td>33</td>\n",
              "    </tr>\n",
              "    <tr>\n",
              "      <th>8</th>\n",
              "      <td>32</td>\n",
              "      <td>27</td>\n",
              "      <td>25</td>\n",
              "      <td>20</td>\n",
              "      <td>36</td>\n",
              "    </tr>\n",
              "    <tr>\n",
              "      <th>9</th>\n",
              "      <td>31</td>\n",
              "      <td>28</td>\n",
              "      <td>24</td>\n",
              "      <td>19</td>\n",
              "      <td>34</td>\n",
              "    </tr>\n",
              "  </tbody>\n",
              "</table>\n",
              "</div>\n",
              "    <div class=\"colab-df-buttons\">\n",
              "\n",
              "  <div class=\"colab-df-container\">\n",
              "    <button class=\"colab-df-convert\" onclick=\"convertToInteractive('df-1967e0cc-ac83-4c07-9445-92674f4865ee')\"\n",
              "            title=\"Convert this dataframe to an interactive table.\"\n",
              "            style=\"display:none;\">\n",
              "\n",
              "  <svg xmlns=\"http://www.w3.org/2000/svg\" height=\"24px\" viewBox=\"0 -960 960 960\">\n",
              "    <path d=\"M120-120v-720h720v720H120Zm60-500h600v-160H180v160Zm220 220h160v-160H400v160Zm0 220h160v-160H400v160ZM180-400h160v-160H180v160Zm440 0h160v-160H620v160ZM180-180h160v-160H180v160Zm440 0h160v-160H620v160Z\"/>\n",
              "  </svg>\n",
              "    </button>\n",
              "\n",
              "  <style>\n",
              "    .colab-df-container {\n",
              "      display:flex;\n",
              "      gap: 12px;\n",
              "    }\n",
              "\n",
              "    .colab-df-convert {\n",
              "      background-color: #E8F0FE;\n",
              "      border: none;\n",
              "      border-radius: 50%;\n",
              "      cursor: pointer;\n",
              "      display: none;\n",
              "      fill: #1967D2;\n",
              "      height: 32px;\n",
              "      padding: 0 0 0 0;\n",
              "      width: 32px;\n",
              "    }\n",
              "\n",
              "    .colab-df-convert:hover {\n",
              "      background-color: #E2EBFA;\n",
              "      box-shadow: 0px 1px 2px rgba(60, 64, 67, 0.3), 0px 1px 3px 1px rgba(60, 64, 67, 0.15);\n",
              "      fill: #174EA6;\n",
              "    }\n",
              "\n",
              "    .colab-df-buttons div {\n",
              "      margin-bottom: 4px;\n",
              "    }\n",
              "\n",
              "    [theme=dark] .colab-df-convert {\n",
              "      background-color: #3B4455;\n",
              "      fill: #D2E3FC;\n",
              "    }\n",
              "\n",
              "    [theme=dark] .colab-df-convert:hover {\n",
              "      background-color: #434B5C;\n",
              "      box-shadow: 0px 1px 3px 1px rgba(0, 0, 0, 0.15);\n",
              "      filter: drop-shadow(0px 1px 2px rgba(0, 0, 0, 0.3));\n",
              "      fill: #FFFFFF;\n",
              "    }\n",
              "  </style>\n",
              "\n",
              "    <script>\n",
              "      const buttonEl =\n",
              "        document.querySelector('#df-1967e0cc-ac83-4c07-9445-92674f4865ee button.colab-df-convert');\n",
              "      buttonEl.style.display =\n",
              "        google.colab.kernel.accessAllowed ? 'block' : 'none';\n",
              "\n",
              "      async function convertToInteractive(key) {\n",
              "        const element = document.querySelector('#df-1967e0cc-ac83-4c07-9445-92674f4865ee');\n",
              "        const dataTable =\n",
              "          await google.colab.kernel.invokeFunction('convertToInteractive',\n",
              "                                                    [key], {});\n",
              "        if (!dataTable) return;\n",
              "\n",
              "        const docLinkHtml = 'Like what you see? Visit the ' +\n",
              "          '<a target=\"_blank\" href=https://colab.research.google.com/notebooks/data_table.ipynb>data table notebook</a>'\n",
              "          + ' to learn more about interactive tables.';\n",
              "        element.innerHTML = '';\n",
              "        dataTable['output_type'] = 'display_data';\n",
              "        await google.colab.output.renderOutput(dataTable, element);\n",
              "        const docLink = document.createElement('div');\n",
              "        docLink.innerHTML = docLinkHtml;\n",
              "        element.appendChild(docLink);\n",
              "      }\n",
              "    </script>\n",
              "  </div>\n",
              "\n",
              "\n",
              "    <div id=\"df-36a69c4f-7552-450a-a382-8db8c376dd65\">\n",
              "      <button class=\"colab-df-quickchart\" onclick=\"quickchart('df-36a69c4f-7552-450a-a382-8db8c376dd65')\"\n",
              "                title=\"Suggest charts\"\n",
              "                style=\"display:none;\">\n",
              "\n",
              "<svg xmlns=\"http://www.w3.org/2000/svg\" height=\"24px\"viewBox=\"0 0 24 24\"\n",
              "     width=\"24px\">\n",
              "    <g>\n",
              "        <path d=\"M19 3H5c-1.1 0-2 .9-2 2v14c0 1.1.9 2 2 2h14c1.1 0 2-.9 2-2V5c0-1.1-.9-2-2-2zM9 17H7v-7h2v7zm4 0h-2V7h2v10zm4 0h-2v-4h2v4z\"/>\n",
              "    </g>\n",
              "</svg>\n",
              "      </button>\n",
              "\n",
              "<style>\n",
              "  .colab-df-quickchart {\n",
              "      --bg-color: #E8F0FE;\n",
              "      --fill-color: #1967D2;\n",
              "      --hover-bg-color: #E2EBFA;\n",
              "      --hover-fill-color: #174EA6;\n",
              "      --disabled-fill-color: #AAA;\n",
              "      --disabled-bg-color: #DDD;\n",
              "  }\n",
              "\n",
              "  [theme=dark] .colab-df-quickchart {\n",
              "      --bg-color: #3B4455;\n",
              "      --fill-color: #D2E3FC;\n",
              "      --hover-bg-color: #434B5C;\n",
              "      --hover-fill-color: #FFFFFF;\n",
              "      --disabled-bg-color: #3B4455;\n",
              "      --disabled-fill-color: #666;\n",
              "  }\n",
              "\n",
              "  .colab-df-quickchart {\n",
              "    background-color: var(--bg-color);\n",
              "    border: none;\n",
              "    border-radius: 50%;\n",
              "    cursor: pointer;\n",
              "    display: none;\n",
              "    fill: var(--fill-color);\n",
              "    height: 32px;\n",
              "    padding: 0;\n",
              "    width: 32px;\n",
              "  }\n",
              "\n",
              "  .colab-df-quickchart:hover {\n",
              "    background-color: var(--hover-bg-color);\n",
              "    box-shadow: 0 1px 2px rgba(60, 64, 67, 0.3), 0 1px 3px 1px rgba(60, 64, 67, 0.15);\n",
              "    fill: var(--button-hover-fill-color);\n",
              "  }\n",
              "\n",
              "  .colab-df-quickchart-complete:disabled,\n",
              "  .colab-df-quickchart-complete:disabled:hover {\n",
              "    background-color: var(--disabled-bg-color);\n",
              "    fill: var(--disabled-fill-color);\n",
              "    box-shadow: none;\n",
              "  }\n",
              "\n",
              "  .colab-df-spinner {\n",
              "    border: 2px solid var(--fill-color);\n",
              "    border-color: transparent;\n",
              "    border-bottom-color: var(--fill-color);\n",
              "    animation:\n",
              "      spin 1s steps(1) infinite;\n",
              "  }\n",
              "\n",
              "  @keyframes spin {\n",
              "    0% {\n",
              "      border-color: transparent;\n",
              "      border-bottom-color: var(--fill-color);\n",
              "      border-left-color: var(--fill-color);\n",
              "    }\n",
              "    20% {\n",
              "      border-color: transparent;\n",
              "      border-left-color: var(--fill-color);\n",
              "      border-top-color: var(--fill-color);\n",
              "    }\n",
              "    30% {\n",
              "      border-color: transparent;\n",
              "      border-left-color: var(--fill-color);\n",
              "      border-top-color: var(--fill-color);\n",
              "      border-right-color: var(--fill-color);\n",
              "    }\n",
              "    40% {\n",
              "      border-color: transparent;\n",
              "      border-right-color: var(--fill-color);\n",
              "      border-top-color: var(--fill-color);\n",
              "    }\n",
              "    60% {\n",
              "      border-color: transparent;\n",
              "      border-right-color: var(--fill-color);\n",
              "    }\n",
              "    80% {\n",
              "      border-color: transparent;\n",
              "      border-right-color: var(--fill-color);\n",
              "      border-bottom-color: var(--fill-color);\n",
              "    }\n",
              "    90% {\n",
              "      border-color: transparent;\n",
              "      border-bottom-color: var(--fill-color);\n",
              "    }\n",
              "  }\n",
              "</style>\n",
              "\n",
              "      <script>\n",
              "        async function quickchart(key) {\n",
              "          const quickchartButtonEl =\n",
              "            document.querySelector('#' + key + ' button');\n",
              "          quickchartButtonEl.disabled = true;  // To prevent multiple clicks.\n",
              "          quickchartButtonEl.classList.add('colab-df-spinner');\n",
              "          try {\n",
              "            const charts = await google.colab.kernel.invokeFunction(\n",
              "                'suggestCharts', [key], {});\n",
              "          } catch (error) {\n",
              "            console.error('Error during call to suggestCharts:', error);\n",
              "          }\n",
              "          quickchartButtonEl.classList.remove('colab-df-spinner');\n",
              "          quickchartButtonEl.classList.add('colab-df-quickchart-complete');\n",
              "        }\n",
              "        (() => {\n",
              "          let quickchartButtonEl =\n",
              "            document.querySelector('#df-36a69c4f-7552-450a-a382-8db8c376dd65 button');\n",
              "          quickchartButtonEl.style.display =\n",
              "            google.colab.kernel.accessAllowed ? 'block' : 'none';\n",
              "        })();\n",
              "      </script>\n",
              "    </div>\n",
              "\n",
              "  <div id=\"id_19238653-c249-4c96-92a9-4b5061783e0f\">\n",
              "    <style>\n",
              "      .colab-df-generate {\n",
              "        background-color: #E8F0FE;\n",
              "        border: none;\n",
              "        border-radius: 50%;\n",
              "        cursor: pointer;\n",
              "        display: none;\n",
              "        fill: #1967D2;\n",
              "        height: 32px;\n",
              "        padding: 0 0 0 0;\n",
              "        width: 32px;\n",
              "      }\n",
              "\n",
              "      .colab-df-generate:hover {\n",
              "        background-color: #E2EBFA;\n",
              "        box-shadow: 0px 1px 2px rgba(60, 64, 67, 0.3), 0px 1px 3px 1px rgba(60, 64, 67, 0.15);\n",
              "        fill: #174EA6;\n",
              "      }\n",
              "\n",
              "      [theme=dark] .colab-df-generate {\n",
              "        background-color: #3B4455;\n",
              "        fill: #D2E3FC;\n",
              "      }\n",
              "\n",
              "      [theme=dark] .colab-df-generate:hover {\n",
              "        background-color: #434B5C;\n",
              "        box-shadow: 0px 1px 3px 1px rgba(0, 0, 0, 0.15);\n",
              "        filter: drop-shadow(0px 1px 2px rgba(0, 0, 0, 0.3));\n",
              "        fill: #FFFFFF;\n",
              "      }\n",
              "    </style>\n",
              "    <button class=\"colab-df-generate\" onclick=\"generateWithVariable('b')\"\n",
              "            title=\"Generate code using this dataframe.\"\n",
              "            style=\"display:none;\">\n",
              "\n",
              "  <svg xmlns=\"http://www.w3.org/2000/svg\" height=\"24px\"viewBox=\"0 0 24 24\"\n",
              "       width=\"24px\">\n",
              "    <path d=\"M7,19H8.4L18.45,9,17,7.55,7,17.6ZM5,21V16.75L18.45,3.32a2,2,0,0,1,2.83,0l1.4,1.43a1.91,1.91,0,0,1,.58,1.4,1.91,1.91,0,0,1-.58,1.4L9.25,21ZM18.45,9,17,7.55Zm-12,3A5.31,5.31,0,0,0,4.9,8.1,5.31,5.31,0,0,0,1,6.5,5.31,5.31,0,0,0,4.9,4.9,5.31,5.31,0,0,0,6.5,1,5.31,5.31,0,0,0,8.1,4.9,5.31,5.31,0,0,0,12,6.5,5.46,5.46,0,0,0,6.5,12Z\"/>\n",
              "  </svg>\n",
              "    </button>\n",
              "    <script>\n",
              "      (() => {\n",
              "      const buttonEl =\n",
              "        document.querySelector('#id_19238653-c249-4c96-92a9-4b5061783e0f button.colab-df-generate');\n",
              "      buttonEl.style.display =\n",
              "        google.colab.kernel.accessAllowed ? 'block' : 'none';\n",
              "\n",
              "      buttonEl.onclick = () => {\n",
              "        google.colab.notebook.generateWithVariable('b');\n",
              "      }\n",
              "      })();\n",
              "    </script>\n",
              "  </div>\n",
              "\n",
              "    </div>\n",
              "  </div>\n"
            ],
            "application/vnd.google.colaboratory.intrinsic+json": {
              "type": "dataframe",
              "variable_name": "b",
              "summary": "{\n  \"name\": \"b\",\n  \"rows\": 10,\n  \"fields\": [\n    {\n      \"column\": \"Model A\",\n      \"properties\": {\n        \"dtype\": \"number\",\n        \"std\": 1,\n        \"min\": 28,\n        \"max\": 33,\n        \"num_unique_values\": 6,\n        \"samples\": [\n          30,\n          32,\n          29\n        ],\n        \"semantic_type\": \"\",\n        \"description\": \"\"\n      }\n    },\n    {\n      \"column\": \"Model B\",\n      \"properties\": {\n        \"dtype\": \"number\",\n        \"std\": 1,\n        \"min\": 23,\n        \"max\": 28,\n        \"num_unique_values\": 6,\n        \"samples\": [\n          25,\n          27,\n          24\n        ],\n        \"semantic_type\": \"\",\n        \"description\": \"\"\n      }\n    },\n    {\n      \"column\": \"Model C\",\n      \"properties\": {\n        \"dtype\": \"number\",\n        \"std\": 1,\n        \"min\": 20,\n        \"max\": 25,\n        \"num_unique_values\": 6,\n        \"samples\": [\n          22,\n          23,\n          24\n        ],\n        \"semantic_type\": \"\",\n        \"description\": \"\"\n      }\n    },\n    {\n      \"column\": \"Model D\",\n      \"properties\": {\n        \"dtype\": \"number\",\n        \"std\": 1,\n        \"min\": 17,\n        \"max\": 21,\n        \"num_unique_values\": 5,\n        \"samples\": [\n          17,\n          21,\n          19\n        ],\n        \"semantic_type\": \"\",\n        \"description\": \"\"\n      }\n    },\n    {\n      \"column\": \"Model E\",\n      \"properties\": {\n        \"dtype\": \"number\",\n        \"std\": 1,\n        \"min\": 32,\n        \"max\": 36,\n        \"num_unique_values\": 5,\n        \"samples\": [\n          36,\n          32,\n          34\n        ],\n        \"semantic_type\": \"\",\n        \"description\": \"\"\n      }\n    }\n  ]\n}"
            }
          },
          "metadata": {},
          "execution_count": 21
        }
      ]
    },
    {
      "cell_type": "code",
      "metadata": {
        "colab": {
          "base_uri": "https://localhost:8080/"
        },
        "id": "d625e9b6",
        "outputId": "40432644-33cb-481d-afa2-e43b21f1c56e"
      },
      "source": [
        "print(\"Central Tendency\",b.mean())"
      ],
      "execution_count": null,
      "outputs": [
        {
          "output_type": "stream",
          "name": "stdout",
          "text": [
            "Central Tendency Model A    30.6\n",
            "Model B    25.9\n",
            "Model C    22.9\n",
            "Model D    18.8\n",
            "Model E    34.2\n",
            "dtype: float64\n"
          ]
        }
      ]
    },
    {
      "cell_type": "code",
      "source": [
        "print(\"Measure of Dispersion = \",b.max() - b.min())"
      ],
      "metadata": {
        "colab": {
          "base_uri": "https://localhost:8080/"
        },
        "id": "1j867aaWfS09",
        "outputId": "251ad2e2-b89a-4e44-af75-a686c3f17bd3"
      },
      "execution_count": null,
      "outputs": [
        {
          "output_type": "stream",
          "name": "stdout",
          "text": [
            "Measure of Dispersion =  Model A    5\n",
            "Model B    5\n",
            "Model C    5\n",
            "Model D    4\n",
            "Model E    4\n",
            "dtype: int64\n"
          ]
        }
      ]
    },
    {
      "cell_type": "code",
      "source": [
        "print(\"variance = \",b.var())"
      ],
      "metadata": {
        "colab": {
          "base_uri": "https://localhost:8080/"
        },
        "id": "A56YmMEugK2H",
        "outputId": "0b46c5a8-7dee-41a0-807c-59e9c9e75f98"
      },
      "execution_count": null,
      "outputs": [
        {
          "output_type": "stream",
          "name": "stdout",
          "text": [
            "variance =  Model A    2.266667\n",
            "Model B    2.766667\n",
            "Model C    2.766667\n",
            "Model D    1.733333\n",
            "Model E    1.733333\n",
            "dtype: float64\n"
          ]
        }
      ]
    },
    {
      "cell_type": "markdown",
      "source": [
        "5. A manufacturing company wants to analyze the defect rates of its productionlinetoidentify the frequency of different types of defects.\n",
        "\n",
        " Data: Let's consider the types of defects and their corresponding frequencies\n",
        "observed in a sample of 200 products:\n",
        "\n",
        "Defect Type: A, B, C, D, E, F, G\n",
        "\n",
        "Frequency: 30, 40, 20, 10, 45, 25, 30\n",
        "\n",
        "Questions:\n",
        "\n",
        "a. Bar Chart: Create a bar chart to visualize the frequency of different defect\n",
        "types.\n",
        "\n",
        "b. Most Common Defect: Which defect type has the highest frequency?\n",
        "\n",
        "c. Histogram: Create a histogram to represent the defect frequencies.\n",
        "\n",
        "By answering these questions using a bar chart and histogram, the manufacturingcompany can visually understand the distribution of defect types, identifythemost common defect, and prioritize quality control efforts to address the prevalent\n",
        "issues."
      ],
      "metadata": {
        "id": "lSB4NqgJgxxA"
      }
    },
    {
      "cell_type": "code",
      "source": [
        "a= [[30, 40, 20, 10, 45, 25, 30]]"
      ],
      "metadata": {
        "id": "BDT6cpnYiMMc"
      },
      "execution_count": null,
      "outputs": []
    },
    {
      "cell_type": "code",
      "source": [
        "# B)\n",
        "import matplotlib.pyplot as plt\n",
        "\n",
        "x = [30, 40, 20, 10, 45, 25, 30]\n",
        "y = ['A','B', 'C', 'D', 'E', 'F', 'G']\n",
        "plt.hist(x,label=y,edgecolor='red',bins=[0,10,20,30,40,50,60,70])\n",
        "plt.show()"
      ],
      "metadata": {
        "colab": {
          "base_uri": "https://localhost:8080/",
          "height": 430
        },
        "id": "gMcE0asCijZn",
        "outputId": "58cbf185-b7e3-4ac3-e742-33d0b7d3d46b"
      },
      "execution_count": null,
      "outputs": [
        {
          "output_type": "display_data",
          "data": {
            "text/plain": [
              "<Figure size 640x480 with 1 Axes>"
            ],
            "image/png": "[encoded data removed]"
          },
          "metadata": {}
        }
      ]
    },
    {
      "cell_type": "code",
      "source": [
        "# A)\n",
        "import matplotlib.pyplot as plt\n",
        "\n",
        "x = ['A','B', 'C', 'D', 'E', 'F', 'G']\n",
        "y = [30, 40, 20, 10, 45, 25, 30]\n",
        "plt.bar(x, y)\n",
        "plt.title(\"Frequency of Different Defect Types\")\n",
        "plt.xlabel(\"Defect Type\")\n",
        "plt.ylabel(\"Frequency\")\n",
        "plt.show()"
      ],
      "metadata": {
        "colab": {
          "base_uri": "https://localhost:8080/",
          "height": 472
        },
        "id": "Mm1NqmaFje3i",
        "outputId": "ba9904f2-9410-484f-c319-3abb560de72a"
      },
      "execution_count": null,
      "outputs": [
        {
          "output_type": "display_data",
          "data": {
            "text/plain": [
              "<Figure size 640x480 with 1 Axes>"
            ],
            "image/png": "[encoded data removed]"
          },
          "metadata": {}
        }
      ]
    },
    {
      "cell_type": "code",
      "source": [
        "#b. Most Common Defect: Which defect type has the highest frequency?\n",
        "# Ans  = Defect type E has the highest frequency as you can see in the bar chart"
      ],
      "metadata": {
        "id": "7iQRBn9EjoWN"
      },
      "execution_count": null,
      "outputs": []
    },
    {
      "cell_type": "markdown",
      "source": [
        "6. A survey was conducted to analyze the satisfaction ratings of customers onascaleof 1 to 5 for a specific product. Data: Let's consider the satisfaction ratings from 200 customers:\n",
        "\n",
        "Ratings:\n",
        "\n",
        "4, 5, 3, 4, 4, 3, 2, 5, 4, 3, 5, 4, 2, 3, 4, 5, 3, 4, 5, 3, 4, 3, 2, 4, 5, 3, 4, 5, 4, 3, 3, 4, 5, 2, 3, 4, 4, 3, 5, 4, 3, 4, 5, 4, 2, 3, 4, 5, 3, 4, 5, 4, 3, 4, 5, 3, 4, 5, 4, 3, 3, 4, 5, 2, 3, 4, 4, 3, 5, 4, 3, 4, 5, 4, 2, 3, 4, 5, 3, 4, 5, 4, 3, 4, 5, 3, 4, 5, 4, 3, 3, 4, 5, 2, 3, 4, 4, 3, 5, 4\n",
        "\n",
        "Questions:\n",
        "\n",
        "a. Skewness: Calculate the skewness of the satisfaction ratings.\n",
        "\n",
        "b. Kurtosis: Calculate the kurtosis of the satisfaction ratings.\n",
        "\n",
        "c. Interpretation: Based on the skewness and kurtosis values, what canbeinferred about the satisfaction ratings distribution?\n",
        "\n",
        "\n",
        "By answering these questions using measures of skewness and kurtosis, thesurvey can assess the skewness and peakedness of the satisfaction ratings, determine if the ratings are skewed towards positive or negative evaluations, andunderstand the distribution characteristics of customer satisfaction."
      ],
      "metadata": {
        "id": "Z03OtK94RPW-"
      }
    },
    {
      "cell_type": "code",
      "source": [
        "ratings = [4, 5, 3, 4, 4, 3, 2, 5, 4, 3, 5, 4, 2, 3, 4, 5, 3, 4, 5, 3, 4, 3, 2, 4, 5, 3, 4, 5, 4, 3, 3, 4, 5, 2, 3, 4, 4, 3, 5, 4, 3, 4, 5, 4, 2, 3, 4, 5, 3, 4, 5, 4, 3, 4, 5, 3, 4, 5, 4, 3, 3, 4, 5, 2, 3, 4, 4, 3, 5, 4, 3, 4, 5, 4, 2, 3, 4, 5, 3, 4, 5, 4, 3, 4, 5, 3, 4, 5, 4, 3, 3, 4, 5, 2, 3, 4, 4, 3, 5, 4 ]\n"
      ],
      "metadata": {
        "id": "osVQLRxoQzyg"
      },
      "execution_count": null,
      "outputs": []
    },
    {
      "cell_type": "code",
      "source": [
        "import pandas as pd\n",
        "# this is the laibary for the statistic to find skew, kurtosis so we can do easy way\n",
        "from scipy.stats import skew, kurtosis\n"
      ],
      "metadata": {
        "id": "Og0K4DigStzs"
      },
      "execution_count": null,
      "outputs": []
    },
    {
      "cell_type": "code",
      "source": [
        "ratings_series = pd.Series(ratings)\n"
      ],
      "metadata": {
        "id": "pPvuxP4XSyIt"
      },
      "execution_count": null,
      "outputs": []
    },
    {
      "cell_type": "code",
      "source": [
        "print(\"Skew_values = \",skew(ratings_series))\n"
      ],
      "metadata": {
        "colab": {
          "base_uri": "https://localhost:8080/"
        },
        "id": "-Zu1qjCcTCaZ",
        "outputId": "fede188a-0cd1-4d3f-e68a-6c844bf6d0f4"
      },
      "execution_count": null,
      "outputs": [
        {
          "output_type": "stream",
          "name": "stdout",
          "text": [
            "Skew_values =  -0.20773281879682218\n"
          ]
        }
      ]
    },
    {
      "cell_type": "code",
      "source": [
        "# Skewness ≈ -0.21 → slightly left-skewed (most people gave high ratings)"
      ],
      "metadata": {
        "id": "oHzVyaOLTGA3"
      },
      "execution_count": null,
      "outputs": []
    },
    {
      "cell_type": "code",
      "source": [
        "print(\"kurtosis_value = \",kurtosis(ratings_series))\n"
      ],
      "metadata": {
        "colab": {
          "base_uri": "https://localhost:8080/"
        },
        "id": "VhPc6Og2TM0Z",
        "outputId": "49ac3f37-d019-4ef4-d317-6825ff991934"
      },
      "execution_count": null,
      "outputs": [
        {
          "output_type": "stream",
          "name": "stdout",
          "text": [
            "kurtosis_value =  -0.767917404014467\n"
          ]
        }
      ]
    },
    {
      "cell_type": "code",
      "source": [
        "# Kurtosis ≈ -0.77 → flatter than normal distribution (not very peaked)"
      ],
      "metadata": {
        "id": "rZNeSp8QTQHx"
      },
      "execution_count": null,
      "outputs": []
    },
    {
      "cell_type": "markdown",
      "source": [
        "7. A research study wants to analyze the weight distribution of a sample of\n",
        "individuals to assess their health and body composition. Data: Let's consider the weights (in kilograms) of a sample of 100 individuals:\n",
        "\n",
        "Weights:\n",
        "\n",
        "55, 60, 62, 65, 68, 70, 72, 75, 78, 80, 82, 85, 88, 90, 92, 95, 100, 105, 110, 115, 120, 125, 130, 135, 140, 145, 150, 155, 160, 165, 170, 175, 180, 185, 190, 195, 200, 205, 210, 215, 220, 225, 230, 235, 240, 245, 250, 255, 260, 265, 270, 275, 280, 285, 290, 295, 300, 305, 310, 315, 320, 325, 330, 335, 340, 345, 350, 355, 360, 365, 370, 375, 380, 385, 390, 395, 400, 405, 410, 415, 420, 425, 430, 435, 440, 445, 450, 455, 460, 465, 470, 475, 480, 485, 490, 495, 500, 505, 510, 515\n",
        "\n",
        "Questions:\n",
        "\n",
        "a. Quartiles: Calculate the first quartile (Q1)\n",
        ", median (Q2), and thirdquartile(Q3) of the weight distribution.\n",
        "  \n",
        "b. Percentiles:\n",
        "  Calculate the 15th percentile, 50th percentile, and 85thpercentile of the weight distribution.\n",
        "\n",
        "c. Interpretation: Based on the quartiles and percentiles, what can be inferredabout the weight distribution of the individuals?\n",
        "\n",
        "\n",
        "By answering these questions using quartiles and percentiles, the researchstudycan understand the weight distribution and identify the weight ranges at different\n",
        "percentiles, such as underweight, normal weight, overweight, and obese\n",
        "categories. This"
      ],
      "metadata": {
        "id": "USgwOBdTUCF_"
      }
    },
    {
      "cell_type": "code",
      "source": [
        "a= [  55, 60, 62, 65, 68, 70, 72, 75, 78, 80, 82, 85, 88, 90, 92, 95, 100, 105, 110, 115, 120, 125, 130, 135, 140, 145, 150, 155, 160, 165, 170, 175, 180, 185, 190, 195, 200, 205, 210, 215, 220, 225, 230, 235, 240, 245, 250, 255, 260, 265, 270, 275, 280, 285, 290, 295, 300, 305, 310, 315, 320, 325, 330, 335, 340, 345, 350, 355, 360, 365, 370, 375, 380, 385, 390, 395, 400, 405, 410, 415, 420, 425, 430, 435, 440, 445, 450, 455, 460, 465, 470, 475, 480, 485, 490, 495, 500, 505, 510, 515\n",
        "\n",
        "]"
      ],
      "metadata": {
        "id": "KsKwyX6RYR36"
      },
      "execution_count": null,
      "outputs": []
    },
    {
      "cell_type": "code",
      "source": [
        "# Quartiles\n",
        "print(\"Q1 = \",np.percentile(a, 25))\n",
        "print(\"Q2 = \",np.percentile(a, 50))\n",
        "print(\"Q3 = \",np.percentile(a, 75))"
      ],
      "metadata": {
        "colab": {
          "base_uri": "https://localhost:8080/"
        },
        "id": "ViKn7rbUYgmS",
        "outputId": "2aa170bc-7600-4ca0-80eb-7623ad5656f0"
      },
      "execution_count": null,
      "outputs": [
        {
          "output_type": "stream",
          "name": "stdout",
          "text": [
            "Q1 =  143.75\n",
            "Q2 =  267.5\n",
            "Q3 =  391.25\n"
          ]
        }
      ]
    },
    {
      "cell_type": "code",
      "source": [
        "print(\"P15 =\",np.percentile(a, 15))\n",
        "print(\"P50 =\",np.percentile(a, 50))\n",
        "print(\"P85 =\",np.percentile(a, 85))\n"
      ],
      "metadata": {
        "colab": {
          "base_uri": "https://localhost:8080/"
        },
        "id": "mWf9XA0XT986",
        "outputId": "6fc45ba7-e85a-4c7f-bc3a-401501b80376"
      },
      "execution_count": null,
      "outputs": [
        {
          "output_type": "stream",
          "name": "stdout",
          "text": [
            "P15 = 94.55\n",
            "P50 = 267.5\n",
            "P85 = 440.74999999999994\n"
          ]
        }
      ]
    },
    {
      "cell_type": "code",
      "source": [
        "np.array(a)"
      ],
      "metadata": {
        "colab": {
          "base_uri": "https://localhost:8080/"
        },
        "id": "bIXNzz8HYahK",
        "outputId": "6d84b3f8-3eb2-46cc-c62c-0fb22c207a72"
      },
      "execution_count": null,
      "outputs": [
        {
          "output_type": "execute_result",
          "data": {
            "text/plain": [
              "array([ 55,  60,  62,  65,  68,  70,  72,  75,  78,  80,  82,  85,  88,\n",
              "        90,  92,  95, 100, 105, 110, 115, 120, 125, 130, 135, 140, 145,\n",
              "       150, 155, 160, 165, 170, 175, 180, 185, 190, 195, 200, 205, 210,\n",
              "       215, 220, 225, 230, 235, 240, 245, 250, 255, 260, 265, 270, 275,\n",
              "       280, 285, 290, 295, 300, 305, 310, 315, 320, 325, 330, 335, 340,\n",
              "       345, 350, 355, 360, 365, 370, 375, 380, 385, 390, 395, 400, 405,\n",
              "       410, 415, 420, 425, 430, 435, 440, 445, 450, 455, 460, 465, 470,\n",
              "       475, 480, 485, 490, 495, 500, 505, 510, 515])"
            ]
          },
          "metadata": {},
          "execution_count": 39
        }
      ]
    },
    {
      "cell_type": "code",
      "source": [],
      "metadata": {
        "id": "a3xLamALkRs8"
      },
      "execution_count": null,
      "outputs": []
    },
    {
      "cell_type": "markdown",
      "source": [
        "8. A researcher wants to examine the relationship between the hours spent studyingand the exam scores of a group of students.\n",
        "\n",
        "Data: Let's consider the number of hours spent studying and the correspondingexam scores for a sample of 30 students:\n",
        "\n",
        "\n",
        "Hours Spent Studying: 10, 12, 15, 18, 20, 22, 25, 28, 30, 32, 35, 38, 40, 42, 45, 48, 50, 52, 55, 58, 60, 62, 65, 68, 70, 72, 75, 78, 80, 82 Exam Scores: 60, 65, 70, 75, 80, 82, 85, 88, 90, 92, 93, 95, 96, 97, 98, 99, 100, 102, 105, 106, 107, 108, 110, 112, 114, 115, 116, 118, 120, 122\n",
        "\n",
        "Question:\n",
        "Calculate the correlation coefficient between the hours spent studying andtheexam scores.\n",
        "\n",
        " Interpret the value of the correlation coefficient and explainthenature of the relationship between studying hours and examscores.\n",
        "\n",
        " By analyzing the correlation coefficient, the researcher can determine the strengthanddirection of the relationship between studying hours and exam scores. This informationcan provide insights into the effectiveness of studying and help students and educatorsmake informed decisions about study habits and academic performance"
      ],
      "metadata": {
        "id": "qjOG-KnxZnLD"
      }
    },
    {
      "cell_type": "code",
      "source": [
        "study_hours= [10, 12, 15, 18, 20, 22, 25, 28, 30, 32, 35, 38, 40, 42, 45, 48, 50, 52, 55, 58, 60, 62, 65, 68, 70, 72, 75, 78, 80, 82]\n",
        "exam_scores = [ 60, 65, 70, 75, 80, 82, 85, 88, 90, 92, 93, 95, 96, 97, 98, 99, 100, 102, 105, 106, 107, 108, 110, 112, 114, 115, 116, 118, 120, 122]"
      ],
      "metadata": {
        "id": "3CAhN6xNYd8e"
      },
      "execution_count": null,
      "outputs": []
    },
    {
      "cell_type": "code",
      "source": [
        "print(\"Correlation Coefficient:\",np.corrcoef(study_hours, exam_scores)[0, 1])\n",
        "\n"
      ],
      "metadata": {
        "colab": {
          "base_uri": "https://localhost:8080/"
        },
        "id": "mY_W8EVukwLd",
        "outputId": "59d135bf-65b7-49bc-a8e6-f4ac7af70f33"
      },
      "execution_count": null,
      "outputs": [
        {
          "output_type": "stream",
          "name": "stdout",
          "text": [
            "Correlation Coefficient: 0.9772950830186736\n"
          ]
        }
      ]
    },
    {
      "cell_type": "markdown",
      "source": [
        "The value is very close to +1 Strong positive relationship\n",
        "\n",
        "This means: As hours of studying increase, exam scores also increase."
      ],
      "metadata": {
        "id": "zGEcu6AelqWK"
      }
    },
    {
      "cell_type": "code",
      "source": [],
      "metadata": {
        "id": "k1_nAFoomNck"
      },
      "execution_count": null,
      "outputs": []
    },
    {
      "cell_type": "markdown",
      "source": [
        "9. A multiple-choice test consists of 10 questions, each with four possible answers. If astudent randomly guesses on each question, what is the probability of gettingat least\n",
        "8 questions correct? Data: Number of questions (n) = 10, Number of possible\n",
        "answers per question (k) = 4"
      ],
      "metadata": {
        "id": "pIwbKhwNmLkR"
      }
    },
    {
      "cell_type": "code",
      "source": [
        "from scipy.stats import binom"
      ],
      "metadata": {
        "id": "8smbE9iok6yR"
      },
      "execution_count": null,
      "outputs": []
    },
    {
      "cell_type": "code",
      "source": [
        "# for this we will use binomial probability this is in discreated  D.PDF type (i)"
      ],
      "metadata": {
        "id": "KEguCAA_mxDp"
      },
      "execution_count": null,
      "outputs": []
    },
    {
      "cell_type": "code",
      "source": [
        "n = 10\n",
        "p = 0.25\n",
        "a = binom.pmf(8, n, p)\n",
        "\n",
        "b = binom.pmf(9, n, p)\n",
        "\n",
        "c = binom.pmf(10, n, p)\n",
        "\n",
        "total_probability = a+b+c\n",
        "\n",
        "print(\"Probability of 8 gusseing ans\", total_probability)\n"
      ],
      "metadata": {
        "colab": {
          "base_uri": "https://localhost:8080/"
        },
        "id": "t_K9A1HMnqkl",
        "outputId": "220311fe-6d8a-4d12-f212-0d61bb9c8363"
      },
      "execution_count": null,
      "outputs": [
        {
          "output_type": "stream",
          "name": "stdout",
          "text": [
            "Probability of 8 gusseing ans 0.00041580200195312495\n"
          ]
        }
      ]
    },
    {
      "cell_type": "markdown",
      "source": [
        "10. The lifetimes of a certain brand of light bulbs are normally distributed witha meanof 1000 hours and a standard deviation of 100 hours. What is the probabilitythat arandomly selected light bulb lasts between 900 and 1100 hours? Data: Meanlifetime(μ) = 1000 hours, Standard deviation (σ) = 100 hours, Lifetime range (lower limit x1, upper limit x2)"
      ],
      "metadata": {
        "id": "spwqSs2jrDV1"
      }
    },
    {
      "cell_type": "code",
      "source": [
        "from scipy.stats import norm\n",
        "# this a normal DIST funtion is the type of the (Normal) because in this quetion is probabily tha data is symmetric distribution so its in bell curve\n",
        "#that why we use this normal and import norm from the scipy.stats and in the last i just do percent so we can see the probability of the funtions\n",
        "mean = 1000\n",
        "std_dev = 100\n",
        "\n",
        "x1 = 900\n",
        "x2 = 1100\n",
        "\n",
        "p1 = norm.cdf(x1, mean, std_dev)\n",
        "p2 = norm.cdf(x2, mean, std_dev)\n",
        "\n",
        "probability = p2 - p1\n",
        "print(round(probability * 100, 2))\n",
        "# its means 68.27 percent chance to get the bulb between x1 and x2 as we find"
      ],
      "metadata": {
        "colab": {
          "base_uri": "https://localhost:8080/"
        },
        "id": "qWsQT4eUo0hV",
        "outputId": "853afcf1-b198-410e-e05c-8732ad8e99af"
      },
      "execution_count": null,
      "outputs": [
        {
          "output_type": "stream",
          "name": "stdout",
          "text": [
            "68.27\n"
          ]
        }
      ]
    },
    {
      "cell_type": "markdown",
      "source": [
        "11. A study is conducted to estimate the mean height of a population. Arandomsampleof 100 individuals is selected, and their heights are measured. Calculate a 95%confidence interval for the population mean height, given that the sample meanheight is 170 cm and the sample standard deviation is 8 cm. Data: Sample size(n) =100, Sample mean (x̄) = 170 cm, Sample standard deviation (s) = 8 cm, Confidencelevel = 95%\n",
        "\n",
        "\n",
        "Explanation: In this problem, we use a sample to estimate the populationmeanheight. By calculating a confidence interval, we provide a range of plausiblevalues for the population mean. The 95% confidence level indicates that weare95% confident that the true population mean height falls within the calculatedinterval."
      ],
      "metadata": {
        "id": "bzz2XJ3UrIr8"
      }
    },
    {
      "cell_type": "code",
      "source": [
        "# in this we first import the math and then as norm because is normal distribution and its give the comfidendence interval so\n",
        "# first given the value from the quetion and find Z score of 95%CF the what is Zscore is 1.96 probabily and we do marigin error\n",
        "# It tells you how much the sample mean could differ from the true population mean. that why we find the margin\n",
        "# afterward for the Ci in last soo the mean value subtract from margin so we easily get confidence interval\n",
        "import math\n",
        "from scipy.stats import norm\n",
        "\n",
        "mean = 170\n",
        "std = 8\n",
        "size = 100\n",
        "confidence = 0.95\n",
        "\n",
        "\n",
        "z = norm.ppf(0.975)\n",
        "\n",
        "\n",
        "margin = z * (std / math.sqrt(size))\n",
        "\n",
        "\n",
        "lower = mean - margin\n",
        "upper = mean + margin\n",
        "\n",
        "print(f\"95% Confidence Interval: ({round(lower, 2)}, {round(upper, 2)})\")\n"
      ],
      "metadata": {
        "colab": {
          "base_uri": "https://localhost:8080/"
        },
        "id": "DTSH7kq6p_3r",
        "outputId": "6de94384-1964-4443-c559-c5e714720659"
      },
      "execution_count": null,
      "outputs": [
        {
          "output_type": "stream",
          "name": "stdout",
          "text": [
            "95% Confidence Interval: (168.43, 171.57)\n"
          ]
        }
      ]
    },
    {
      "cell_type": "code",
      "source": [
        "\n",
        "margin = z * (std / math.sqrt(size))\n",
        "margin"
      ],
      "metadata": {
        "colab": {
          "base_uri": "https://localhost:8080/"
        },
        "id": "yxYZiGtIfVxJ",
        "outputId": "4f015118-1991-4a4d-fcec-3f504bdbd14c"
      },
      "execution_count": null,
      "outputs": [
        {
          "output_type": "execute_result",
          "data": {
            "text/plain": [
              "np.float64(1.5679711876320432)"
            ]
          },
          "metadata": {},
          "execution_count": 55
        }
      ]
    },
    {
      "cell_type": "markdown",
      "source": [
        "12. A manufacturing company claims that the average weight of its product is 500grams. To test this claim, a random sample of 25 products is selected, and their\n",
        "\n",
        "weights are measured. The sample mean weight is found to be 510 grams withasample standard deviation of 20 grams. Perform a hypothesis test to determineif\n",
        "\n",
        "there is evidence to support the company's claim.\n",
        "\n",
        "Data: Sample size (n) =25, Sample mean (x̄) = 510 grams, Sample standard deviation (s) = 20 grams, Population mean (μ) = 500 grams\n",
        "\n",
        "\n",
        "Explanation: In this problem, we are conducting a hypothesis test to assess\n",
        "whether the sample mean weight provides evidence to support the company's\n",
        "claim about the population mean weight. The null hypothesis (H0) assumes that\n",
        "the population mean weight is equal to the claimed value, while the alternativehypothesis (Ha) suggests otherwise."
      ],
      "metadata": {
        "id": "akA1zirtuwoc"
      }
    },
    {
      "cell_type": "code",
      "source": [
        "import math\n",
        "from scipy import stats\n",
        "\n",
        "# Given data\n",
        "sample_mean = 510\n",
        "population_mean = 500\n",
        "sample_std = 20\n",
        "sample_size = 25\n",
        "\n",
        "# Step 1: Calculate t-statistic\n",
        "t_stat = (sample_mean - population_mean) / (sample_std / math.sqrt(sample_size))\n",
        "print(\"T-statistic:\", round(t_stat, 4))\n",
        "\n",
        "# Step 2: Degrees of freedom\n",
        "df = sample_size - 1\n",
        "\n",
        "# Step 3: Critical t-value for 95% confidence level (two-tailed test)\n",
        "alpha = 0.05\n",
        "t_critical = stats.t.ppf(1 - alpha/2, df)\n",
        "print(\"Critical t-value:\", round(t_critical, 4))\n",
        "\n",
        "# Step 4: Conclusion\n",
        "if abs(t_stat) > t_critical:\n",
        "    print(\"Reject the null hypothesis: The sample mean is significantly different from 500.\")\n",
        "else:\n",
        "    print(\"Fail to reject the null hypothesis: No significant difference from 500.\")\n"
      ],
      "metadata": {
        "id": "hTUCnkD7tjQj",
        "colab": {
          "base_uri": "https://localhost:8080/"
        },
        "outputId": "5ea31aa1-581d-47db-9626-95772bcd303b"
      },
      "execution_count": null,
      "outputs": [
        {
          "output_type": "stream",
          "name": "stdout",
          "text": [
            "T-statistic: 2.5\n",
            "Critical t-value: 2.0639\n",
            "Reject the null hypothesis: The sample mean is significantly different from 500.\n"
          ]
        }
      ]
    },
    {
      "cell_type": "markdown",
      "source": [
        "13.A researcher wants to test whether a new teaching method improves student\n",
        "performance. A random sample of 50 students is divided into two groups:\n",
        "\n",
        "onegrouptaught using the new method and the other using the traditional method.\n",
        "\n",
        "The averagetest scores of the two groups are compared. State the null and alternative hypothesesfor this study. Data: Sample size (n) = 50, Test scores of the two groups\n",
        "\n",
        "Explanation: In this problem, we are interested in comparing the means of twogroups (new method vs. traditional method). The null hypothesis (H0) states that\n",
        "\n",
        "there is no significant difference between the means, while the alternative\n",
        "hypothesis (Ha) suggests that there is a significant difference"
      ],
      "metadata": {
        "id": "HPV6SC9Tox8H"
      }
    },
    {
      "cell_type": "code",
      "source": [
        "import numpy as np\n",
        "from scipy.stats import ttest_ind\n",
        "\n",
        "new_method_scores = [85, 87, 90, 88, 91, 86, 89, 92, 88, 90, 87, 89, 85, 90, 91, 88, 87, 86, 90, 89, 92, 91, 90, 88, 89]\n",
        "traditional_scores = [80, 78, 75, 82, 79, 77, 76, 80, 78, 81, 77, 76, 79, 78, 75, 80, 81, 79, 76, 78, 80, 77, 76, 78, 79]\n",
        "\n",
        "t_stat, p_value = ttest_ind(new_method_scores, traditional_scores)\n",
        "alpha = 0.05\n",
        "\n",
        "print(\"T-statistic:\", t_stat)\n",
        "print(\"P-value:\", p_value)\n",
        "\n",
        "if (t_stat > 0) and (p_value / 2 < alpha):\n",
        "    print(\"Conclusion: Reject H0 — New method significantly improves performance.\")\n",
        "else:\n",
        "    print(\"Conclusion: Fail to reject H0 — No significant improvement.\")"
      ],
      "metadata": {
        "colab": {
          "base_uri": "https://localhost:8080/"
        },
        "id": "zd5CiJ4hlzFs",
        "outputId": "c6213c47-0738-424a-f291-f4104ba3a810"
      },
      "execution_count": null,
      "outputs": [
        {
          "output_type": "stream",
          "name": "stdout",
          "text": [
            "T-statistic: 18.74193859712309\n",
            "P-value: 1.0123611852191272e-23\n",
            "Conclusion: Reject H0 — New method significantly improves performance.\n"
          ]
        }
      ]
    },
    {
      "cell_type": "markdown",
      "source": [
        "14. A survey is conducted to estimate the proportion of people in a city who support aparticular policy. A random sample of 500 individuals is surveyed, and 320of themexpress support for the policy. Calculate a 90% confidence interval for the\n",
        "\n",
        "population proportion, given the sample proportion. Data: Sample size (n) =500, Number of successes (x) = 320, Confidence level = 90%\n",
        "\n",
        "Explanation: In this problem, we aim to estimate the population proportionbasedon the sample proportion. By constructing a confidence interval, we providearange of plausible values for the population proportion. The 90%confidencelevel\n",
        "\n",
        "indicates that we are 90% confident that the true population proportion falls\n",
        "within the calculated interval."
      ],
      "metadata": {
        "id": "zR13T349q5pr"
      }
    },
    {
      "cell_type": "code",
      "source": [
        "import math\n",
        "\n",
        "x = 320\n",
        "n = 500\n",
        "confidence_level = 0.90\n",
        "z = 1.645\n",
        "\n",
        "p_hat = x / n\n",
        "\n",
        "se = math.sqrt(p_hat * (1 - p_hat) / n)\n",
        "\n",
        "margin = z * se\n",
        "\n",
        "lower = p_hat - margin\n",
        "upper = p_hat + margin\n",
        "\n",
        "print(f\"90% Confidence Interval for population proportion: ({round(lower, 4)}, {round(upper, 4)})\")\n"
      ],
      "metadata": {
        "colab": {
          "base_uri": "https://localhost:8080/"
        },
        "id": "BNYsKVM0ud_p",
        "outputId": "0ac95b3f-7581-40bc-c3c0-6fde608bfcc5"
      },
      "execution_count": null,
      "outputs": [
        {
          "output_type": "stream",
          "name": "stdout",
          "text": [
            "90% Confidence Interval for population proportion: (0.6047, 0.6753)\n"
          ]
        }
      ]
    },
    {
      "cell_type": "markdown",
      "source": [
        "15. A company sells smartphones, and the number of defects per batch follows a\n",
        "Poisson distribution with a mean of 2 defects. What is the probability of havingexactly 3 defects in a randomly selected batch? Data: Mean number of defects (λ) =2, Number of defects (x) = 3\n",
        "\n",
        "Explanation: The problem involves a discrete distribution (Poisson) becauseweare dealing with the count of defects in a batch of smartphones. The Poisson\n",
        "distribution models the probability of a given number of events occurringwithinafixed interval of time or space."
      ],
      "metadata": {
        "id": "HdbI-vp2u8fG"
      }
    },
    {
      "cell_type": "code",
      "source": [
        "from scipy.stats import poisson\n",
        "lam = 2\n",
        "x = 3\n",
        "prob = poisson.pmf(x, mu=lam)\n",
        "print(f\"Probability of exactly {x} defects (λ = {lam}): {prob:.4f}\")"
      ],
      "metadata": {
        "colab": {
          "base_uri": "https://localhost:8080/"
        },
        "id": "TGdus9EXuedA",
        "outputId": "efa399c6-76b1-483f-a306-bf8b0cec757e"
      },
      "execution_count": null,
      "outputs": [
        {
          "output_type": "stream",
          "name": "stdout",
          "text": [
            "Probability of exactly 3 defects (λ = 2): 0.1804\n"
          ]
        }
      ]
    },
    {
      "cell_type": "code",
      "source": [],
      "metadata": {
        "id": "L47foZs1xBiR"
      },
      "execution_count": null,
      "outputs": []
    }
  ]
}